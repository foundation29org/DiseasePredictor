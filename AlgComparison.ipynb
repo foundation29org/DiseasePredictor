{
 "cells": [
  {
   "cell_type": "code",
   "execution_count": 1,
   "metadata": {},
   "outputs": [],
   "source": [
    "import os\n",
    "import json\n",
    "import pandas as pd\n",
    "import numpy as np\n",
    "import matplotlib.pylab as plt\n"
   ]
  },
  {
   "cell_type": "code",
   "execution_count": 2,
   "metadata": {},
   "outputs": [],
   "source": [
    "'''\n",
    "    Dataset\n",
    "'''\n",
    "class Dataset():\n",
    "    def __init__(self, df=None):\n",
    "        self.items = []\n",
    "        if df:\n",
    "            self.add(df)\n",
    "\n",
    "    def add_df(self, df, source=None):\n",
    "        items = []\n",
    "        for row in df[['id', 'subject', 'terms']].values:\n",
    "            id = row[0]\n",
    "            subject = row[1]\n",
    "            terms = [t.strip() for t in row[2].split(',')]\n",
    "            items.append([source, id, subject, terms])\n",
    "        self.items.extend(items)\n",
    "\n",
    "    def add_fn(self, name, fn, columns):\n",
    "        df = pd.read_csv(fn, sep='\\t')\n",
    "        ds = pd.DataFrame(df[columns].values, columns=['id', 'subject', 'terms'])\n",
    "        ds.drop_duplicates(['subject', 'terms'], inplace=True)\n",
    "        ds.dropna(inplace=True)\n",
    "        self.add_df(ds, name)\n",
    "        \n",
    "    def __len__(self):\n",
    "        return len(self.items)\n",
    "\n",
    "    def __getitem__(self, idx):\n",
    "        return self.items[idx]\n"
   ]
  },
  {
   "cell_type": "code",
   "execution_count": 3,
   "metadata": {},
   "outputs": [],
   "source": [
    "'''\n",
    "    Evaluators\n",
    "'''\n",
    "import os\n",
    "import json\n",
    "import requests\n",
    "\n",
    "class Evaluator():\n",
    "    def __init__(self):\n",
    "        pass\n",
    "\n",
    "    def eval(self, id, terms):\n",
    "        pass\n",
    "\n",
    "'''\n",
    "    Phen2GeneEval\n",
    "'''\n",
    "PHEN2GENE_URL = 'https://f29bio.northeurope.cloudapp.azure.com/api/Phen2Gene/calc?weightModel=sk'\n",
    "\n",
    "class Phen2GeneEval():\n",
    "    def __init__(self, url=PHEN2GENE_URL, rows=100):\n",
    "        self.url = url + F'&rows={rows}'\n",
    "\n",
    "    def request(self, source, id, hpos):\n",
    "        source = source or 'common'\n",
    "        fn = F'_public_case_cache/{source}-{id}.json'\n",
    "        if os.path.isfile(fn):\n",
    "            with open(fn, 'r') as fp:\n",
    "                return json.load(fp)\n",
    "        resp = requests.post(self.url, json=hpos)\n",
    "        with open(fn, 'w') as fp:\n",
    "            json.dump(resp.json(), fp, indent=2)\n",
    "        return resp.json()\n",
    "\n",
    "    def validate(self, source, id, subject, terms):\n",
    "        subject = subject.upper()\n",
    "        resp = self.request(source, id, terms)\n",
    "        query = resp['query']\n",
    "        for term in query:\n",
    "            status = query[term]['status']\n",
    "            if status != 'ok':\n",
    "                print(source, id, term, status, sep='\\t')\n",
    "\n",
    "    def eval(self, source, id, subject, terms):\n",
    "        subject = subject.upper()\n",
    "        resp = self.request(source, id, terms)\n",
    "        ranking = resp['response']\n",
    "        for item in ranking:\n",
    "            if item.upper() == subject:\n",
    "                return ranking[subject]['rank']\n",
    "        return 1000\n",
    "\n",
    "'''\n",
    "    PhenolyzerEval\n",
    "'''\n",
    "class PhenolyzerEval():\n",
    "    def __init__(self):\n",
    "        pass\n",
    "\n",
    "    def eval(self, source, id, subject, terms):\n",
    "        fn = os.path.join('_phenolyzer', source, F'{id}.json')\n",
    "        with open(fn, 'r') as fp:\n",
    "            ranking = json.load(fp)\n",
    "        subject = subject.upper()\n",
    "        n = 1\n",
    "        for item in ranking:\n",
    "            if item['Name'].upper() == subject:\n",
    "                return n\n",
    "            n += 1\n",
    "        return 1000\n",
    "    "
   ]
  },
  {
   "cell_type": "code",
   "execution_count": 4,
   "metadata": {
    "tags": []
   },
   "outputs": [
    {
     "name": "stdout",
     "output_type": "stream",
     "text": [
      "rao\tTCS001\tEP300\t['HP:0010301', 'HP:0000252', 'HP:0001263']\n",
      "rao\tTCS003\tSMARCB1\t['HP:0001263', 'HP:0002650', 'HP:0001382', 'HP:0002079', 'HP:0001999']\n",
      "rao\tTCS004\tLARP7\t['HP:0001263', 'HP:0004322', 'HP:0100255']\n",
      "rao\tTCS005\tKAT6B\t['HP:0007105']\n"
     ]
    }
   ],
   "source": [
    "'''\n",
    "    Load Dataset\n",
    "'''\n",
    "dataset = Dataset()\n",
    "\n",
    "dataset.add_fn('rao', '_public_case_data/rao-testCases_rarediseases_full.tsv', ['Internal ID', 'Gene', 'Clinical Indication and Phenotype (HPO)'])\n",
    "dataset.add_fn('kleyner', '_public_case_data/kleyner-testCases_rarediseases_full.tsv', ['Internal ID', 'Gene', 'Clinical Indication and Phenotype (HPO)'])\n",
    "dataset.add_fn('cipriani', '_public_case_data/cipriani-cases.tsv', ['Patient_identifier', 'Gene', 'Clinical_diagnosis_label'])\n",
    "\n",
    "for row in list(dataset)[:4]:\n",
    "    print(*row, sep='\\t')\n",
    "    "
   ]
  },
  {
   "cell_type": "code",
   "execution_count": 43,
   "metadata": {},
   "outputs": [],
   "source": [
    "'''\n",
    "    Plot\n",
    "'''\n",
    "def plot(d, title=None, max_rank=25):\n",
    "    lists = sorted(d.items()) # sorted by key, return a list of tuples\n",
    "    x, y = zip(*lists) # unpack a list of pairs into two tuples\n",
    "    if max_rank >= 0:\n",
    "        x = x[:max_rank-1]\n",
    "        y = y[:max_rank-1]\n",
    "    y = np.cumsum(y)\n",
    "    if title:\n",
    "        fig = plt.figure()\n",
    "        fig.suptitle(title)\n",
    "        plt.plot(x, y)\n",
    "        return fig\n",
    "    else:\n",
    "        return plt.plot(x, y)"
   ]
  },
  {
   "cell_type": "code",
   "execution_count": 49,
   "metadata": {
    "tags": []
   },
   "outputs": [
    {
     "name": "stdout",
     "output_type": "stream",
     "text": [
      "{1: 7, 2: 9, 3: 6, 4: 5, 5: 6, 6: 4, 7: 2, 8: 4, 9: 4, 10: 2, 11: 3, 12: 2, 13: 2, 14: 2, 15: 4, 16: 6, 17: 1, 18: 1, 19: 4, 20: 1, 21: 1, 22: 3, 23: 1, 24: 1, 25: 4, 26: 3, 28: 1, 29: 2, 30: 1, 33: 3, 34: 1, 36: 2, 37: 1, 38: 2, 39: 1, 40: 1, 41: 4, 43: 1, 44: 2, 45: 1, 46: 3, 47: 1, 51: 1, 52: 2, 55: 2, 56: 1, 57: 1, 58: 3, 59: 1, 60: 1, 61: 1, 63: 1, 64: 1, 65: 1, 66: 1, 67: 1, 69: 1, 70: 2, 71: 1, 72: 1, 76: 1, 78: 1, 79: 1, 81: 1, 83: 1, 84: 1, 85: 1, 89: 1, 93: 2, 94: 3, 95: 2, 96: 3, 97: 161}\n"
     ]
    },
    {
     "data": {
      "image/png": "[encoded data removed]",
      "text/plain": [
       "<Figure size 432x288 with 1 Axes>"
      ]
     },
     "metadata": {
      "needs_background": "light"
     },
     "output_type": "display_data"
    }
   ],
   "source": [
    "'''\n",
    "    Eval Phen2Gene\n",
    "'''\n",
    "phen2gene = Phen2GeneEval()\n",
    "\n",
    "ranks = list()\n",
    "for source, id, subject, terms in dataset:\n",
    "    ranks.append(phen2gene.eval(source, id, subject, terms))\n",
    "temp_freq, temp_keys = np.histogram(ranks, bins=np.unique(ranks))\n",
    "rank_phen2gene = dict(zip(temp_keys, temp_freq))\n",
    "print(rank_phen2gene)\n",
    "\n",
    "plot(rank_phen2gene, 'Phen2Gene', 25)\n",
    "plt.show()\n"
   ]
  },
  {
   "cell_type": "code",
   "execution_count": 50,
   "metadata": {
    "tags": []
   },
   "outputs": [
    {
     "name": "stdout",
     "output_type": "stream",
     "text": [
      "{1: 7, 2: 1, 3: 9, 4: 6, 5: 4, 6: 7, 7: 4, 8: 4, 9: 1, 10: 2, 12: 1, 14: 4, 15: 2, 16: 2, 17: 1, 18: 2, 20: 1, 21: 1, 22: 3, 23: 3, 24: 1, 26: 1, 27: 2, 28: 1, 29: 3, 30: 1, 31: 2, 32: 1, 33: 3, 34: 1, 35: 1, 36: 1, 37: 2, 38: 1, 41: 3, 42: 1, 43: 4, 44: 2, 45: 1, 47: 3, 49: 2, 51: 1, 52: 2, 54: 1, 58: 2, 59: 1, 60: 2, 61: 1, 63: 2, 64: 2, 65: 2, 66: 2, 67: 3, 68: 1, 71: 1, 72: 1, 73: 1, 74: 1, 80: 1, 81: 1, 82: 1, 83: 1, 88: 1, 90: 2, 91: 1, 92: 2, 94: 1, 96: 1, 97: 1, 99: 1, 102: 1, 107: 1, 111: 1, 114: 1, 117: 1, 118: 2, 119: 2, 121: 1, 122: 1, 125: 1, 126: 1, 131: 2, 134: 1, 139: 1, 140: 4, 141: 1, 142: 1, 145: 1, 149: 1, 158: 1, 162: 1, 165: 1, 173: 1, 175: 2, 182: 2, 184: 1, 185: 1, 186: 1, 189: 1, 192: 1, 195: 1, 198: 1, 204: 1, 206: 1, 214: 1, 215: 1, 227: 1, 230: 1, 232: 1, 248: 1, 256: 1, 272: 1, 278: 1, 282: 1, 283: 1, 286: 1, 287: 1, 289: 1, 296: 1, 298: 1, 301: 1, 321: 1, 336: 1, 355: 1, 373: 1, 383: 1, 397: 1, 402: 1, 409: 1, 422: 1, 424: 1, 433: 1, 462: 1, 498: 1, 503: 1, 513: 1, 551: 1, 556: 1, 584: 1, 616: 1, 624: 1, 629: 1, 661: 1, 761: 1, 766: 2, 774: 1, 790: 1, 814: 1, 833: 1, 848: 1, 858: 1, 881: 1, 938: 2, 954: 1, 986: 1, 1000: 61, 1044: 1, 1098: 1, 1129: 1, 1134: 1, 1147: 1, 1178: 1, 1244: 1, 1330: 1, 1409: 1, 1483: 1, 1621: 1, 1636: 1, 1685: 1, 1755: 1, 1875: 1, 1927: 1, 1971: 1, 2137: 2}\n"
     ]
    },
    {
     "data": {
      "image/png": "[encoded data removed]",
      "text/plain": [
       "<Figure size 432x288 with 1 Axes>"
      ]
     },
     "metadata": {
      "needs_background": "light"
     },
     "output_type": "display_data"
    }
   ],
   "source": [
    "'''\n",
    "    Eval Phenolyzer\n",
    "'''\n",
    "phenolyzer = PhenolyzerEval()\n",
    "\n",
    "ranks = list()\n",
    "for source, id, subject, terms in dataset:\n",
    "    ranks.append(phenolyzer.eval(source, id, subject, terms))\n",
    "temp_freq, temp_keys = np.histogram(ranks, bins=np.unique(ranks))\n",
    "rank_phenolyzer = dict(zip(temp_keys, temp_freq))\n",
    "print(rank_phenolyzer)\n",
    "\n",
    "plot(rank_phenolyzer, 'Phenolyzer', 25)\n",
    "plt.show()\n"
   ]
  },
  {
   "cell_type": "code",
   "execution_count": 51,
   "metadata": {},
   "outputs": [
    {
     "data": {
      "text/plain": [
       "<matplotlib.legend.Legend at 0x29046bd2dc8>"
      ]
     },
     "execution_count": 51,
     "metadata": {},
     "output_type": "execute_result"
    },
    {
     "data": {
      "image/png": "[encoded data removed]",
      "text/plain": [
       "<Figure size 432x288 with 1 Axes>"
      ]
     },
     "metadata": {
      "needs_background": "light"
     },
     "output_type": "display_data"
    }
   ],
   "source": [
    "fig = plt.figure()\n",
    "fig.suptitle('Comparison')\n",
    "a, = plot(rank_phen2gene)\n",
    "b, = plot(rank_phenolyzer)\n",
    "plt.legend([a, b], ['phen2gene', 'phenolyzer'])"
   ]
  },
  {
   "cell_type": "code",
   "execution_count": 68,
   "metadata": {},
   "outputs": [
    {
     "data": {
      "text/plain": [
       "<matplotlib.legend.Legend at 0x290470e1f08>"
      ]
     },
     "execution_count": 68,
     "metadata": {},
     "output_type": "execute_result"
    },
    {
     "data": {
      "image/png": "[encoded data removed]",
      "text/plain": [
       "<Figure size 432x288 with 1 Axes>"
      ]
     },
     "metadata": {
      "needs_background": "light"
     },
     "output_type": "display_data"
    }
   ],
   "source": [
    "'''\n",
    "    Plot ROC figure\n",
    "'''\n",
    "def get_roc(y):\n",
    "    y = np.cumsum(y[::-1])/np.sum(y)\n",
    "    return y, np.sum(y)\n",
    "    \n",
    "def plot_roc(d, title=None, max_rank=None):\n",
    "    lists = sorted(d.items()) # sorted by key, return a list of tuples\n",
    "    x, y = zip(*lists) # unpack a list of pairs into two tuples\n",
    "    y, auc = get_roc(y)\n",
    "    if max_rank is not None:\n",
    "        x = [i for i in x if i <= max_rank]\n",
    "        y = y[:len(x)]\n",
    "    if title:\n",
    "        fig = plt.figure()\n",
    "        fig.suptitle(title)\n",
    "        plt.plot(x, y)\n",
    "        return fig\n",
    "    else:\n",
    "        return plt.plot(x, y)\n",
    "\n",
    "fig = plt.figure()\n",
    "fig.suptitle('ROC comparison')\n",
    "a, = plot_roc(rank_phen2gene, max_rank=100)\n",
    "b, = plot_roc(rank_phenolyzer, max_rank=100)\n",
    "plt.legend([a, b], ['phen2gene', 'phenolyzer'])"
   ]
  },
  {
   "cell_type": "code",
   "execution_count": null,
   "metadata": {},
   "outputs": [],
   "source": []
  }
 ],
 "metadata": {
  "kernelspec": {
   "display_name": "Python 3",
   "language": "python",
   "name": "python3"
  },
  "language_info": {
   "codemirror_mode": {
    "name": "ipython",
    "version": 3
   },
   "file_extension": ".py",
   "mimetype": "text/x-python",
   "name": "python",
   "nbconvert_exporter": "python",
   "pygments_lexer": "ipython3",
   "version": "3.7.7"
  }
 },
 "nbformat": 4,
 "nbformat_minor": 4
}
